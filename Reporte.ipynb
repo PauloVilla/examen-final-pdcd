{
 "cells": [
  {
   "cell_type": "markdown",
   "source": [
    "# Reporte proceso API"
   ],
   "metadata": {
    "collapsed": false
   }
  },
  {
   "cell_type": "markdown",
   "source": [
    "## Paso 1. Ejecución de forma local"
   ],
   "metadata": {
    "collapsed": false
   }
  },
  {
   "cell_type": "markdown",
   "source": [
    "![](./images/postman_ss.png)"
   ],
   "metadata": {
    "collapsed": false
   }
  },
  {
   "cell_type": "markdown",
   "source": [
    "## Paso 2. Creación de Dockerfile"
   ],
   "metadata": {
    "collapsed": false
   }
  },
  {
   "cell_type": "markdown",
   "source": [
    "![](./images/Docker_image.png)"
   ],
   "metadata": {
    "collapsed": false
   }
  },
  {
   "cell_type": "markdown",
   "source": [
    "## Paso 3. Ejecutar imagen en contenedor local."
   ],
   "metadata": {
    "collapsed": false
   }
  },
  {
   "cell_type": "markdown",
   "source": [
    "![](./images/Container_run.png)"
   ],
   "metadata": {
    "collapsed": false
   }
  },
  {
   "cell_type": "markdown",
   "source": [
    "![](./images/Container_exe.png)"
   ],
   "metadata": {
    "collapsed": false
   }
  },
  {
   "cell_type": "markdown",
   "source": [
    "![](./images/ContainerOK.png)"
   ],
   "metadata": {
    "collapsed": false
   }
  },
  {
   "cell_type": "markdown",
   "source": [
    "# Conclusión final\n",
    "\n",
    "Pienso que he aprendido lo básico para desplegar un modelo como servicio, ya sea en localmente o en un servidor en la nube, en cuanto al problema, creo que fue un buen modelo, aunque con un poco más de tiempo claro que se podía mejorar, al final utilicé solo un modelo de regresión logistica ya que me daba un buen accuracy y recall, pero en un caso real pienso que si es necesario mejorar el ratio de los 0. En cuanto al despliegue del modelo como API pienso que estuvo bastante bien y fácil."
   ],
   "metadata": {
    "collapsed": false
   }
  }
 ],
 "metadata": {
  "kernelspec": {
   "display_name": "Python 3",
   "language": "python",
   "name": "python3"
  },
  "language_info": {
   "codemirror_mode": {
    "name": "ipython",
    "version": 2
   },
   "file_extension": ".py",
   "mimetype": "text/x-python",
   "name": "python",
   "nbconvert_exporter": "python",
   "pygments_lexer": "ipython2",
   "version": "2.7.6"
  }
 },
 "nbformat": 4,
 "nbformat_minor": 0
}
