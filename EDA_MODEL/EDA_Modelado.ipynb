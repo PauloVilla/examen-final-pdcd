{
 "cells": [
  {
   "cell_type": "code",
   "execution_count": 1,
   "metadata": {
    "collapsed": true
   },
   "outputs": [],
   "source": [
    "import re\n",
    "import nltk\n",
    "import pickle\n",
    "import warnings\n",
    "import pandas as pd\n",
    "import seaborn as sns\n",
    "import matplotlib.pyplot as plt\n",
    "from nltk.corpus import stopwords\n",
    "from sklearn.metrics import recall_score\n",
    "from sklearn.metrics import confusion_matrix\n",
    "from sklearn.linear_model import LogisticRegression\n",
    "from sklearn.model_selection import train_test_split\n",
    "from sklearn.feature_extraction.text import CountVectorizer\n",
    "from sklearn.feature_extraction.text import TfidfTransformer\n",
    "\n",
    "warnings.filterwarnings(\"ignore\")"
   ]
  },
  {
   "cell_type": "markdown",
   "source": [
    "# EDA y modelado de datos."
   ],
   "metadata": {
    "collapsed": false
   }
  },
  {
   "cell_type": "code",
   "execution_count": 2,
   "outputs": [
    {
     "data": {
      "text/plain": "                                       Project Title  \\\n0             Stand Up to Bullying: Together We Can!   \n1                                 Learning in Color!   \n2  Help Second Grade ESL Students Develop Languag...   \n3  Help Bilingual Students Strengthen Reading Com...   \n4                   Help Us Make Each Minute Count!    \n\n                           Project Short Description  \\\n0  Did you know that 1-7 students in grades K-12 ...   \n1  Help us have a fun, interactive listening cent...   \n2  Visiting or moving to a new place can be very ...   \n3  Students at our school are still working hard ...   \n4  \"Idle hands\" were something that Issac Watts s...   \n\n           Project Subject Category Tree  Project Cost Project Current Status  \n0                       Applied Learning        361.80           Fully Funded  \n1  Applied Learning, Literacy & Language        512.85                Expired  \n2                    Literacy & Language        435.92           Fully Funded  \n3                    Literacy & Language        161.26           Fully Funded  \n4                          Special Needs        264.19           Fully Funded  ",
      "text/html": "<div>\n<style scoped>\n    .dataframe tbody tr th:only-of-type {\n        vertical-align: middle;\n    }\n\n    .dataframe tbody tr th {\n        vertical-align: top;\n    }\n\n    .dataframe thead th {\n        text-align: right;\n    }\n</style>\n<table border=\"1\" class=\"dataframe\">\n  <thead>\n    <tr style=\"text-align: right;\">\n      <th></th>\n      <th>Project Title</th>\n      <th>Project Short Description</th>\n      <th>Project Subject Category Tree</th>\n      <th>Project Cost</th>\n      <th>Project Current Status</th>\n    </tr>\n  </thead>\n  <tbody>\n    <tr>\n      <th>0</th>\n      <td>Stand Up to Bullying: Together We Can!</td>\n      <td>Did you know that 1-7 students in grades K-12 ...</td>\n      <td>Applied Learning</td>\n      <td>361.80</td>\n      <td>Fully Funded</td>\n    </tr>\n    <tr>\n      <th>1</th>\n      <td>Learning in Color!</td>\n      <td>Help us have a fun, interactive listening cent...</td>\n      <td>Applied Learning, Literacy &amp; Language</td>\n      <td>512.85</td>\n      <td>Expired</td>\n    </tr>\n    <tr>\n      <th>2</th>\n      <td>Help Second Grade ESL Students Develop Languag...</td>\n      <td>Visiting or moving to a new place can be very ...</td>\n      <td>Literacy &amp; Language</td>\n      <td>435.92</td>\n      <td>Fully Funded</td>\n    </tr>\n    <tr>\n      <th>3</th>\n      <td>Help Bilingual Students Strengthen Reading Com...</td>\n      <td>Students at our school are still working hard ...</td>\n      <td>Literacy &amp; Language</td>\n      <td>161.26</td>\n      <td>Fully Funded</td>\n    </tr>\n    <tr>\n      <th>4</th>\n      <td>Help Us Make Each Minute Count!</td>\n      <td>\"Idle hands\" were something that Issac Watts s...</td>\n      <td>Special Needs</td>\n      <td>264.19</td>\n      <td>Fully Funded</td>\n    </tr>\n  </tbody>\n</table>\n</div>"
     },
     "execution_count": 2,
     "metadata": {},
     "output_type": "execute_result"
    }
   ],
   "source": [
    "data = pd.read_csv(\"./data/Projects_cleansed.csv\")\n",
    "data.head()"
   ],
   "metadata": {
    "collapsed": false
   }
  },
  {
   "cell_type": "code",
   "execution_count": 3,
   "outputs": [
    {
     "data": {
      "text/plain": "Fully Funded    826740\nExpired         241390\nLive             41851\nName: Project Current Status, dtype: int64"
     },
     "execution_count": 3,
     "metadata": {},
     "output_type": "execute_result"
    }
   ],
   "source": [
    "data[\"Project Current Status\"].value_counts()"
   ],
   "metadata": {
    "collapsed": false
   }
  },
  {
   "cell_type": "code",
   "execution_count": 4,
   "outputs": [
    {
     "data": {
      "text/plain": "<Figure size 400x300 with 1 Axes>",
      "image/png": "[encoded data removed]"
     },
     "metadata": {},
     "output_type": "display_data"
    }
   ],
   "source": [
    "data[\"Project Cost\"].hist(bins=50, figsize=(4, 3))\n",
    "plt.title(\"Boxplot variable Project cost\")\n",
    "plt.show()"
   ],
   "metadata": {
    "collapsed": false
   }
  },
  {
   "cell_type": "markdown",
   "source": [
    "## Tratamiento variable `Project Cost`."
   ],
   "metadata": {
    "collapsed": false
   }
  },
  {
   "cell_type": "code",
   "execution_count": 5,
   "outputs": [
    {
     "name": "stdout",
     "output_type": "stream",
     "text": [
      "El máximo de costo es de: 255737.67\n",
      "El mínimo de costo es de: 35.29\n",
      "La media de costo es de: 741.519443612098\n",
      "La mediana de costo es de: 515.35\n"
     ]
    }
   ],
   "source": [
    "# Exploración variable de costo\n",
    "print(f\"El máximo de costo es de: {data['Project Cost'].max()}\")\n",
    "print(f\"El mínimo de costo es de: {data['Project Cost'].min()}\")\n",
    "print(f\"La media de costo es de: {data['Project Cost'].mean()}\")\n",
    "print(f\"La mediana de costo es de: {data['Project Cost'].median()}\")"
   ],
   "metadata": {
    "collapsed": false
   }
  },
  {
   "cell_type": "code",
   "execution_count": 6,
   "outputs": [
    {
     "name": "stdout",
     "output_type": "stream",
     "text": [
      "Tamaño del dataset 1104192, tamaño del recorte 5789\n",
      "Porcentaje de datos que nos quedan: 99.47845954119936\n"
     ]
    }
   ],
   "source": [
    "# Tenemos datos atípicos, vamos a ver que tanto\n",
    "a = data[data[\"Project Cost\"]<5000].shape\n",
    "b = data[data[\"Project Cost\"]>5000].shape\n",
    "# El 5000 es un valor arbitrario, pero también gráficamente noté que sería un buen corte\n",
    "print(f\"Tamaño del dataset {a[0]}, tamaño del recorte {b[0]}\")\n",
    "# Eliminamos los datos mayores a 5000 en costo, pues representan menos del 1% y son muy atípicos.\n",
    "print(f\"Porcentaje de datos que nos quedan: {(a[0]*100)/len(data)}\")\n",
    "data = data[data[\"Project Cost\"]<5000]"
   ],
   "metadata": {
    "collapsed": false
   }
  },
  {
   "cell_type": "code",
   "execution_count": 7,
   "outputs": [
    {
     "data": {
      "text/plain": "<Figure size 640x480 with 1 Axes>",
      "image/png": "[encoded data removed]"
     },
     "metadata": {},
     "output_type": "display_data"
    }
   ],
   "source": [
    "sns.boxplot(data[\"Project Cost\"])\n",
    "plt.title(\"Boxplot variable Project cost\")\n",
    "plt.show()"
   ],
   "metadata": {
    "collapsed": false
   }
  },
  {
   "cell_type": "code",
   "execution_count": 8,
   "outputs": [
    {
     "data": {
      "text/plain": "<Figure size 400x300 with 1 Axes>",
      "image/png": "[encoded data removed]"
     },
     "metadata": {},
     "output_type": "display_data"
    }
   ],
   "source": [
    "data[\"Project Cost\"].hist(bins=50, figsize=(4, 3))\n",
    "plt.title(\"Distribución 'Project Cost'\")\n",
    "plt.show()"
   ],
   "metadata": {
    "collapsed": false
   }
  },
  {
   "cell_type": "markdown",
   "source": [
    "## Tratamiento variable de respuesta.\n",
    "\n",
    "En este caso solo les daremos valores de 0 para ver si no lo fondearon  y 1 para ver si si lo fondearon que nos servirán únicamente como etiquetas."
   ],
   "metadata": {
    "collapsed": false
   }
  },
  {
   "cell_type": "code",
   "execution_count": 9,
   "outputs": [
    {
     "data": {
      "text/plain": "Fully Funded    823849\nExpired         238950\nLive             41393\nName: Project Current Status, dtype: int64"
     },
     "execution_count": 9,
     "metadata": {},
     "output_type": "execute_result"
    }
   ],
   "source": [
    "data[\"Project Current Status\"].value_counts()"
   ],
   "metadata": {
    "collapsed": false
   }
  },
  {
   "cell_type": "code",
   "execution_count": 10,
   "outputs": [
    {
     "data": {
      "text/plain": "                                       Project Title  \\\n0             Stand Up to Bullying: Together We Can!   \n1                                 Learning in Color!   \n2  Help Second Grade ESL Students Develop Languag...   \n3  Help Bilingual Students Strengthen Reading Com...   \n4                   Help Us Make Each Minute Count!    \n\n                           Project Short Description  \\\n0  Did you know that 1-7 students in grades K-12 ...   \n1  Help us have a fun, interactive listening cent...   \n2  Visiting or moving to a new place can be very ...   \n3  Students at our school are still working hard ...   \n4  \"Idle hands\" were something that Issac Watts s...   \n\n           Project Subject Category Tree  Project Cost  Project Current Status  \n0                       Applied Learning        361.80                       1  \n1  Applied Learning, Literacy & Language        512.85                       0  \n2                    Literacy & Language        435.92                       1  \n3                    Literacy & Language        161.26                       1  \n4                          Special Needs        264.19                       1  ",
      "text/html": "<div>\n<style scoped>\n    .dataframe tbody tr th:only-of-type {\n        vertical-align: middle;\n    }\n\n    .dataframe tbody tr th {\n        vertical-align: top;\n    }\n\n    .dataframe thead th {\n        text-align: right;\n    }\n</style>\n<table border=\"1\" class=\"dataframe\">\n  <thead>\n    <tr style=\"text-align: right;\">\n      <th></th>\n      <th>Project Title</th>\n      <th>Project Short Description</th>\n      <th>Project Subject Category Tree</th>\n      <th>Project Cost</th>\n      <th>Project Current Status</th>\n    </tr>\n  </thead>\n  <tbody>\n    <tr>\n      <th>0</th>\n      <td>Stand Up to Bullying: Together We Can!</td>\n      <td>Did you know that 1-7 students in grades K-12 ...</td>\n      <td>Applied Learning</td>\n      <td>361.80</td>\n      <td>1</td>\n    </tr>\n    <tr>\n      <th>1</th>\n      <td>Learning in Color!</td>\n      <td>Help us have a fun, interactive listening cent...</td>\n      <td>Applied Learning, Literacy &amp; Language</td>\n      <td>512.85</td>\n      <td>0</td>\n    </tr>\n    <tr>\n      <th>2</th>\n      <td>Help Second Grade ESL Students Develop Languag...</td>\n      <td>Visiting or moving to a new place can be very ...</td>\n      <td>Literacy &amp; Language</td>\n      <td>435.92</td>\n      <td>1</td>\n    </tr>\n    <tr>\n      <th>3</th>\n      <td>Help Bilingual Students Strengthen Reading Com...</td>\n      <td>Students at our school are still working hard ...</td>\n      <td>Literacy &amp; Language</td>\n      <td>161.26</td>\n      <td>1</td>\n    </tr>\n    <tr>\n      <th>4</th>\n      <td>Help Us Make Each Minute Count!</td>\n      <td>\"Idle hands\" were something that Issac Watts s...</td>\n      <td>Special Needs</td>\n      <td>264.19</td>\n      <td>1</td>\n    </tr>\n  </tbody>\n</table>\n</div>"
     },
     "execution_count": 10,
     "metadata": {},
     "output_type": "execute_result"
    }
   ],
   "source": [
    "data[\"Project Current Status\"].replace({\"Fully Funded\":1, \"Live\":1, \"Expired\":0}, inplace=True)\n",
    "data.head()"
   ],
   "metadata": {
    "collapsed": false
   }
  },
  {
   "cell_type": "markdown",
   "source": [],
   "metadata": {
    "collapsed": false
   }
  },
  {
   "cell_type": "markdown",
   "source": [
    "## Tratamiento variable `Project Subject Category Tree`.\n",
    "\n",
    "Utilizaremos el método de frecuencia para sustituir el texto. Ya que si hiciéramos one-hot encoding, tendríamos 50 variables nuevas y de esta forma podemos darle un peso a cada una de las opciones."
   ],
   "metadata": {
    "collapsed": false
   }
  },
  {
   "cell_type": "code",
   "execution_count": 11,
   "outputs": [
    {
     "data": {
      "text/plain": "Literacy & Language                           249929\nMath & Science                                171202\nLiteracy & Language, Math & Science           153322\nMusic & The Arts                               56408\nHealth & Sports                                48358\nApplied Learning                               44723\nLiteracy & Language, Special Needs             41180\nSpecial Needs                                  35481\nApplied Learning, Literacy & Language          30984\nMath & Science, Literacy & Language            27796\nLiteracy & Language, Music & The Arts          21102\nApplied Learning, Special Needs                20407\nHistory & Civics                               20327\nMath & Science, Special Needs                  18577\nHistory & Civics, Literacy & Language          18502\nMath & Science, Music & The Arts               16817\nMath & Science, Applied Learning               15207\nApplied Learning, Math & Science               12837\nLiteracy & Language, History & Civics          11929\nApplied Learning, Music & The Arts             10540\nWarmth, Care & Hunger                          10276\nHealth & Sports, Special Needs                  9936\nMath & Science, History & Civics                7901\nLiteracy & Language, Applied Learning           7696\nApplied Learning, Health & Sports               6682\nHealth & Sports, Literacy & Language            4928\nHistory & Civics, Math & Science                4843\nHistory & Civics, Music & The Arts              4420\nMath & Science, Health & Sports                 3638\nSpecial Needs, Music & The Arts                 3277\nApplied Learning, History & Civics              3176\nHistory & Civics, Special Needs                 2319\nHealth & Sports, Applied Learning               1704\nMusic & The Arts, Special Needs                 1652\nHealth & Sports, Math & Science                 1631\nHealth & Sports, Music & The Arts               1394\nLiteracy & Language, Health & Sports             726\nHistory & Civics, Applied Learning               593\nSpecial Needs, Health & Sports                   419\nHealth & Sports, History & Civics                306\nMusic & The Arts, History & Civics               277\nMusic & The Arts, Health & Sports                209\nMusic & The Arts, Applied Learning               177\nHistory & Civics, Health & Sports                163\nHealth & Sports, Warmth, Care & Hunger            64\nSpecial Needs, Warmth, Care & Hunger              49\nLiteracy & Language, Warmth, Care & Hunger        36\nApplied Learning, Warmth, Care & Hunger           35\nMath & Science, Warmth, Care & Hunger             25\nMusic & The Arts, Warmth, Care & Hunger            7\nHistory & Civics, Warmth, Care & Hunger            5\nName: Project Subject Category Tree, dtype: int64"
     },
     "execution_count": 11,
     "metadata": {},
     "output_type": "execute_result"
    }
   ],
   "source": [
    "data[\"Project Subject Category Tree\"].value_counts()"
   ],
   "metadata": {
    "collapsed": false
   }
  },
  {
   "cell_type": "code",
   "execution_count": 12,
   "outputs": [
    {
     "data": {
      "text/plain": "                 Project Subject Category Tree      prop\n0                          Literacy & Language  0.226346\n1                               Math & Science  0.155047\n2          Literacy & Language, Math & Science  0.138854\n3                             Music & The Arts  0.051085\n4                              Health & Sports  0.043795\n5                             Applied Learning  0.040503\n6           Literacy & Language, Special Needs  0.037294\n7                                Special Needs  0.032133\n8        Applied Learning, Literacy & Language  0.028060\n9          Math & Science, Literacy & Language  0.025173\n10       Literacy & Language, Music & The Arts  0.019111\n11             Applied Learning, Special Needs  0.018481\n12                            History & Civics  0.018409\n13               Math & Science, Special Needs  0.016824\n14       History & Civics, Literacy & Language  0.016756\n15            Math & Science, Music & The Arts  0.015230\n16            Math & Science, Applied Learning  0.013772\n17            Applied Learning, Math & Science  0.011626\n18       Literacy & Language, History & Civics  0.010803\n19          Applied Learning, Music & The Arts  0.009545\n20                       Warmth, Care & Hunger  0.009306\n21              Health & Sports, Special Needs  0.008998\n22            Math & Science, History & Civics  0.007155\n23       Literacy & Language, Applied Learning  0.006970\n24           Applied Learning, Health & Sports  0.006051\n25        Health & Sports, Literacy & Language  0.004463\n26            History & Civics, Math & Science  0.004386\n27          History & Civics, Music & The Arts  0.004003\n28             Math & Science, Health & Sports  0.003295\n29             Special Needs, Music & The Arts  0.002968\n30          Applied Learning, History & Civics  0.002876\n31             History & Civics, Special Needs  0.002100\n32           Health & Sports, Applied Learning  0.001543\n33             Music & The Arts, Special Needs  0.001496\n34             Health & Sports, Math & Science  0.001477\n35           Health & Sports, Music & The Arts  0.001262\n36        Literacy & Language, Health & Sports  0.000657\n37          History & Civics, Applied Learning  0.000537\n38              Special Needs, Health & Sports  0.000379\n39           Health & Sports, History & Civics  0.000277\n40          Music & The Arts, History & Civics  0.000251\n41           Music & The Arts, Health & Sports  0.000189\n42          Music & The Arts, Applied Learning  0.000160\n43           History & Civics, Health & Sports  0.000148\n44      Health & Sports, Warmth, Care & Hunger  0.000058\n45        Special Needs, Warmth, Care & Hunger  0.000044\n46  Literacy & Language, Warmth, Care & Hunger  0.000033\n47     Applied Learning, Warmth, Care & Hunger  0.000032\n48       Math & Science, Warmth, Care & Hunger  0.000023\n49     Music & The Arts, Warmth, Care & Hunger  0.000006\n50     History & Civics, Warmth, Care & Hunger  0.000005",
      "text/html": "<div>\n<style scoped>\n    .dataframe tbody tr th:only-of-type {\n        vertical-align: middle;\n    }\n\n    .dataframe tbody tr th {\n        vertical-align: top;\n    }\n\n    .dataframe thead th {\n        text-align: right;\n    }\n</style>\n<table border=\"1\" class=\"dataframe\">\n  <thead>\n    <tr style=\"text-align: right;\">\n      <th></th>\n      <th>Project Subject Category Tree</th>\n      <th>prop</th>\n    </tr>\n  </thead>\n  <tbody>\n    <tr>\n      <th>0</th>\n      <td>Literacy &amp; Language</td>\n      <td>0.226346</td>\n    </tr>\n    <tr>\n      <th>1</th>\n      <td>Math &amp; Science</td>\n      <td>0.155047</td>\n    </tr>\n    <tr>\n      <th>2</th>\n      <td>Literacy &amp; Language, Math &amp; Science</td>\n      <td>0.138854</td>\n    </tr>\n    <tr>\n      <th>3</th>\n      <td>Music &amp; The Arts</td>\n      <td>0.051085</td>\n    </tr>\n    <tr>\n      <th>4</th>\n      <td>Health &amp; Sports</td>\n      <td>0.043795</td>\n    </tr>\n    <tr>\n      <th>5</th>\n      <td>Applied Learning</td>\n      <td>0.040503</td>\n    </tr>\n    <tr>\n      <th>6</th>\n      <td>Literacy &amp; Language, Special Needs</td>\n      <td>0.037294</td>\n    </tr>\n    <tr>\n      <th>7</th>\n      <td>Special Needs</td>\n      <td>0.032133</td>\n    </tr>\n    <tr>\n      <th>8</th>\n      <td>Applied Learning, Literacy &amp; Language</td>\n      <td>0.028060</td>\n    </tr>\n    <tr>\n      <th>9</th>\n      <td>Math &amp; Science, Literacy &amp; Language</td>\n      <td>0.025173</td>\n    </tr>\n    <tr>\n      <th>10</th>\n      <td>Literacy &amp; Language, Music &amp; The Arts</td>\n      <td>0.019111</td>\n    </tr>\n    <tr>\n      <th>11</th>\n      <td>Applied Learning, Special Needs</td>\n      <td>0.018481</td>\n    </tr>\n    <tr>\n      <th>12</th>\n      <td>History &amp; Civics</td>\n      <td>0.018409</td>\n    </tr>\n    <tr>\n      <th>13</th>\n      <td>Math &amp; Science, Special Needs</td>\n      <td>0.016824</td>\n    </tr>\n    <tr>\n      <th>14</th>\n      <td>History &amp; Civics, Literacy &amp; Language</td>\n      <td>0.016756</td>\n    </tr>\n    <tr>\n      <th>15</th>\n      <td>Math &amp; Science, Music &amp; The Arts</td>\n      <td>0.015230</td>\n    </tr>\n    <tr>\n      <th>16</th>\n      <td>Math &amp; Science, Applied Learning</td>\n      <td>0.013772</td>\n    </tr>\n    <tr>\n      <th>17</th>\n      <td>Applied Learning, Math &amp; Science</td>\n      <td>0.011626</td>\n    </tr>\n    <tr>\n      <th>18</th>\n      <td>Literacy &amp; Language, History &amp; Civics</td>\n      <td>0.010803</td>\n    </tr>\n    <tr>\n      <th>19</th>\n      <td>Applied Learning, Music &amp; The Arts</td>\n      <td>0.009545</td>\n    </tr>\n    <tr>\n      <th>20</th>\n      <td>Warmth, Care &amp; Hunger</td>\n      <td>0.009306</td>\n    </tr>\n    <tr>\n      <th>21</th>\n      <td>Health &amp; Sports, Special Needs</td>\n      <td>0.008998</td>\n    </tr>\n    <tr>\n      <th>22</th>\n      <td>Math &amp; Science, History &amp; Civics</td>\n      <td>0.007155</td>\n    </tr>\n    <tr>\n      <th>23</th>\n      <td>Literacy &amp; Language, Applied Learning</td>\n      <td>0.006970</td>\n    </tr>\n    <tr>\n      <th>24</th>\n      <td>Applied Learning, Health &amp; Sports</td>\n      <td>0.006051</td>\n    </tr>\n    <tr>\n      <th>25</th>\n      <td>Health &amp; Sports, Literacy &amp; Language</td>\n      <td>0.004463</td>\n    </tr>\n    <tr>\n      <th>26</th>\n      <td>History &amp; Civics, Math &amp; Science</td>\n      <td>0.004386</td>\n    </tr>\n    <tr>\n      <th>27</th>\n      <td>History &amp; Civics, Music &amp; The Arts</td>\n      <td>0.004003</td>\n    </tr>\n    <tr>\n      <th>28</th>\n      <td>Math &amp; Science, Health &amp; Sports</td>\n      <td>0.003295</td>\n    </tr>\n    <tr>\n      <th>29</th>\n      <td>Special Needs, Music &amp; The Arts</td>\n      <td>0.002968</td>\n    </tr>\n    <tr>\n      <th>30</th>\n      <td>Applied Learning, History &amp; Civics</td>\n      <td>0.002876</td>\n    </tr>\n    <tr>\n      <th>31</th>\n      <td>History &amp; Civics, Special Needs</td>\n      <td>0.002100</td>\n    </tr>\n    <tr>\n      <th>32</th>\n      <td>Health &amp; Sports, Applied Learning</td>\n      <td>0.001543</td>\n    </tr>\n    <tr>\n      <th>33</th>\n      <td>Music &amp; The Arts, Special Needs</td>\n      <td>0.001496</td>\n    </tr>\n    <tr>\n      <th>34</th>\n      <td>Health &amp; Sports, Math &amp; Science</td>\n      <td>0.001477</td>\n    </tr>\n    <tr>\n      <th>35</th>\n      <td>Health &amp; Sports, Music &amp; The Arts</td>\n      <td>0.001262</td>\n    </tr>\n    <tr>\n      <th>36</th>\n      <td>Literacy &amp; Language, Health &amp; Sports</td>\n      <td>0.000657</td>\n    </tr>\n    <tr>\n      <th>37</th>\n      <td>History &amp; Civics, Applied Learning</td>\n      <td>0.000537</td>\n    </tr>\n    <tr>\n      <th>38</th>\n      <td>Special Needs, Health &amp; Sports</td>\n      <td>0.000379</td>\n    </tr>\n    <tr>\n      <th>39</th>\n      <td>Health &amp; Sports, History &amp; Civics</td>\n      <td>0.000277</td>\n    </tr>\n    <tr>\n      <th>40</th>\n      <td>Music &amp; The Arts, History &amp; Civics</td>\n      <td>0.000251</td>\n    </tr>\n    <tr>\n      <th>41</th>\n      <td>Music &amp; The Arts, Health &amp; Sports</td>\n      <td>0.000189</td>\n    </tr>\n    <tr>\n      <th>42</th>\n      <td>Music &amp; The Arts, Applied Learning</td>\n      <td>0.000160</td>\n    </tr>\n    <tr>\n      <th>43</th>\n      <td>History &amp; Civics, Health &amp; Sports</td>\n      <td>0.000148</td>\n    </tr>\n    <tr>\n      <th>44</th>\n      <td>Health &amp; Sports, Warmth, Care &amp; Hunger</td>\n      <td>0.000058</td>\n    </tr>\n    <tr>\n      <th>45</th>\n      <td>Special Needs, Warmth, Care &amp; Hunger</td>\n      <td>0.000044</td>\n    </tr>\n    <tr>\n      <th>46</th>\n      <td>Literacy &amp; Language, Warmth, Care &amp; Hunger</td>\n      <td>0.000033</td>\n    </tr>\n    <tr>\n      <th>47</th>\n      <td>Applied Learning, Warmth, Care &amp; Hunger</td>\n      <td>0.000032</td>\n    </tr>\n    <tr>\n      <th>48</th>\n      <td>Math &amp; Science, Warmth, Care &amp; Hunger</td>\n      <td>0.000023</td>\n    </tr>\n    <tr>\n      <th>49</th>\n      <td>Music &amp; The Arts, Warmth, Care &amp; Hunger</td>\n      <td>0.000006</td>\n    </tr>\n    <tr>\n      <th>50</th>\n      <td>History &amp; Civics, Warmth, Care &amp; Hunger</td>\n      <td>0.000005</td>\n    </tr>\n  </tbody>\n</table>\n</div>"
     },
     "execution_count": 12,
     "metadata": {},
     "output_type": "execute_result"
    }
   ],
   "source": [
    "# Agrupando\n",
    "group = data.groupby(\"Project Subject Category Tree\").agg({\"Project Current Status\": ['mean', 'count']})\n",
    "group = group[\"Project Current Status\"]\n",
    "# Agregamos la proporción\n",
    "group['prop'] = group['count'] / group['count'].sum()\n",
    "# Ordenemos el DataFrame por el tamaño de la proporción.\n",
    "group = group.sort_values('prop', ascending=False)\n",
    "group = group[\"prop\"].reset_index()\n",
    "group"
   ],
   "metadata": {
    "collapsed": false
   }
  },
  {
   "cell_type": "code",
   "execution_count": 13,
   "outputs": [
    {
     "data": {
      "text/plain": "                                    Project Title  \\\n0          Stand Up to Bullying: Together We Can!   \n1                              Experiencing India   \n2  It Is Time To Grab This \"Bully\" By The Horns!!   \n3              You Can Read the Signs on the Wall   \n4                       Props For Passionate Play   \n\n                           Project Short Description  Project Cost  \\\n0  Did you know that 1-7 students in grades K-12 ...        361.80   \n1  Travel and hands on experiences outside the cl...       3020.59   \n2  Teasing is part of being a kid, right? Wrong! ...        400.19   \n3  In our fast paced world, students are being su...        528.49   \n4  Students' play takes them to a higher social f...        396.92   \n\n   Project Current Status      prop  \n0                       1  0.040503  \n1                       1  0.040503  \n2                       1  0.040503  \n3                       1  0.040503  \n4                       1  0.040503  ",
      "text/html": "<div>\n<style scoped>\n    .dataframe tbody tr th:only-of-type {\n        vertical-align: middle;\n    }\n\n    .dataframe tbody tr th {\n        vertical-align: top;\n    }\n\n    .dataframe thead th {\n        text-align: right;\n    }\n</style>\n<table border=\"1\" class=\"dataframe\">\n  <thead>\n    <tr style=\"text-align: right;\">\n      <th></th>\n      <th>Project Title</th>\n      <th>Project Short Description</th>\n      <th>Project Cost</th>\n      <th>Project Current Status</th>\n      <th>prop</th>\n    </tr>\n  </thead>\n  <tbody>\n    <tr>\n      <th>0</th>\n      <td>Stand Up to Bullying: Together We Can!</td>\n      <td>Did you know that 1-7 students in grades K-12 ...</td>\n      <td>361.80</td>\n      <td>1</td>\n      <td>0.040503</td>\n    </tr>\n    <tr>\n      <th>1</th>\n      <td>Experiencing India</td>\n      <td>Travel and hands on experiences outside the cl...</td>\n      <td>3020.59</td>\n      <td>1</td>\n      <td>0.040503</td>\n    </tr>\n    <tr>\n      <th>2</th>\n      <td>It Is Time To Grab This \"Bully\" By The Horns!!</td>\n      <td>Teasing is part of being a kid, right? Wrong! ...</td>\n      <td>400.19</td>\n      <td>1</td>\n      <td>0.040503</td>\n    </tr>\n    <tr>\n      <th>3</th>\n      <td>You Can Read the Signs on the Wall</td>\n      <td>In our fast paced world, students are being su...</td>\n      <td>528.49</td>\n      <td>1</td>\n      <td>0.040503</td>\n    </tr>\n    <tr>\n      <th>4</th>\n      <td>Props For Passionate Play</td>\n      <td>Students' play takes them to a higher social f...</td>\n      <td>396.92</td>\n      <td>1</td>\n      <td>0.040503</td>\n    </tr>\n  </tbody>\n</table>\n</div>"
     },
     "execution_count": 13,
     "metadata": {},
     "output_type": "execute_result"
    }
   ],
   "source": [
    "data = data.merge(group, on=\"Project Subject Category Tree\")\n",
    "data.drop(columns=\"Project Subject Category Tree\", inplace=True)\n",
    "data.head()"
   ],
   "metadata": {
    "collapsed": false
   }
  },
  {
   "cell_type": "markdown",
   "source": [
    "## Eliminación de la variable de título.\n",
    "\n",
    "Como vamos a tratar la variable de ´Project Short Description´ vectorizando y generando varias columnas, la variable del título no nos va a servir de mucho."
   ],
   "metadata": {
    "collapsed": false
   }
  },
  {
   "cell_type": "code",
   "execution_count": 14,
   "outputs": [
    {
     "data": {
      "text/plain": "                           Project Short Description  Project Cost      prop  \\\n0  Did you know that 1-7 students in grades K-12 ...        361.80  0.040503   \n1  Travel and hands on experiences outside the cl...       3020.59  0.040503   \n2  Teasing is part of being a kid, right? Wrong! ...        400.19  0.040503   \n3  In our fast paced world, students are being su...        528.49  0.040503   \n4  Students' play takes them to a higher social f...        396.92  0.040503   \n\n   Project Current Status  \n0                       1  \n1                       1  \n2                       1  \n3                       1  \n4                       1  ",
      "text/html": "<div>\n<style scoped>\n    .dataframe tbody tr th:only-of-type {\n        vertical-align: middle;\n    }\n\n    .dataframe tbody tr th {\n        vertical-align: top;\n    }\n\n    .dataframe thead th {\n        text-align: right;\n    }\n</style>\n<table border=\"1\" class=\"dataframe\">\n  <thead>\n    <tr style=\"text-align: right;\">\n      <th></th>\n      <th>Project Short Description</th>\n      <th>Project Cost</th>\n      <th>prop</th>\n      <th>Project Current Status</th>\n    </tr>\n  </thead>\n  <tbody>\n    <tr>\n      <th>0</th>\n      <td>Did you know that 1-7 students in grades K-12 ...</td>\n      <td>361.80</td>\n      <td>0.040503</td>\n      <td>1</td>\n    </tr>\n    <tr>\n      <th>1</th>\n      <td>Travel and hands on experiences outside the cl...</td>\n      <td>3020.59</td>\n      <td>0.040503</td>\n      <td>1</td>\n    </tr>\n    <tr>\n      <th>2</th>\n      <td>Teasing is part of being a kid, right? Wrong! ...</td>\n      <td>400.19</td>\n      <td>0.040503</td>\n      <td>1</td>\n    </tr>\n    <tr>\n      <th>3</th>\n      <td>In our fast paced world, students are being su...</td>\n      <td>528.49</td>\n      <td>0.040503</td>\n      <td>1</td>\n    </tr>\n    <tr>\n      <th>4</th>\n      <td>Students' play takes them to a higher social f...</td>\n      <td>396.92</td>\n      <td>0.040503</td>\n      <td>1</td>\n    </tr>\n  </tbody>\n</table>\n</div>"
     },
     "execution_count": 14,
     "metadata": {},
     "output_type": "execute_result"
    }
   ],
   "source": [
    "data = data[[\"Project Short Description\", \"Project Cost\", \"prop\", \"Project Current Status\"]].reset_index(drop=True)\n",
    "data.head()"
   ],
   "metadata": {
    "collapsed": false
   }
  },
  {
   "cell_type": "markdown",
   "source": [
    "## Tratamiento de la variable de `Project Short Description`."
   ],
   "metadata": {
    "collapsed": false
   }
  },
  {
   "cell_type": "code",
   "execution_count": 15,
   "outputs": [],
   "source": [
    "data_textos = list(data[\"Project Short Description\"])\n",
    "clean_texts = []\n",
    "\n",
    "for text in data_textos:\n",
    "        text = text.lower() # Ponemos en minúsculas nuestros textos\n",
    "        text = re.sub(\"\\W\", \" \", text) # Eliminamos caracteres especiales\n",
    "        text = re.sub(\"\\d\", \"\", text) # Eliminamos números\n",
    "        text = re.sub(\"\\s+\", \" \", text) # Eliminamos más de 1 espacio\n",
    "        text = re.sub(\"\\.+\", \"\", text) # Eliminamos los puntos del final\n",
    "        text = re.sub('\\_', '', text)# Quitando '_'\n",
    "        clean_texts.append(text)"
   ],
   "metadata": {
    "collapsed": false
   }
  },
  {
   "cell_type": "code",
   "execution_count": 16,
   "outputs": [
    {
     "name": "stdout",
     "output_type": "stream",
     "text": [
      "Texto limpio:\n",
      "did you know that students in grades k is either a bully or a victim of bullying my goal is to raise prevention through being educated and aware of the effects and consequences of \n",
      "\n",
      "Texto Original:\n",
      "Did you know that 1-7 students in grades K-12 is either a bully or a victim of bullying? My goal is to raise prevention through being educated and aware of the effects and consequences of...\n"
     ]
    }
   ],
   "source": [
    "# Ejemplo de como queda el texto después de la limpieza.\n",
    "print(\"Texto limpio:\")\n",
    "print(clean_texts[0])\n",
    "print()\n",
    "print(\"Texto Original:\")\n",
    "print(data[\"Project Short Description\"][0])"
   ],
   "metadata": {
    "collapsed": false
   }
  },
  {
   "cell_type": "markdown",
   "source": [
    "Primero vectorizamos nuestras descripciones con ayuda de sklearn con un modelo Count Vectorizer, posteriormente aplicaremos un modelo TF-IDF\n"
   ],
   "metadata": {
    "collapsed": false
   }
  },
  {
   "cell_type": "code",
   "execution_count": 17,
   "outputs": [
    {
     "name": "stderr",
     "output_type": "stream",
     "text": [
      "[nltk_data] Downloading package stopwords to\n",
      "[nltk_data]     C:\\Users\\pvilla\\AppData\\Roaming\\nltk_data...\n",
      "[nltk_data]   Package stopwords is already up-to-date!\n"
     ]
    },
    {
     "data": {
      "text/plain": "True"
     },
     "execution_count": 17,
     "metadata": {},
     "output_type": "execute_result"
    }
   ],
   "source": [
    "# Importamos stopwords de la librería nltk\n",
    "nltk.download('stopwords')"
   ],
   "metadata": {
    "collapsed": false
   }
  },
  {
   "cell_type": "code",
   "execution_count": 18,
   "outputs": [],
   "source": [
    "vectorizer = CountVectorizer(max_features=500, # Máximas características\n",
    "                             min_df=5, # Si una palabra sale en menos de 3 archivos no la pongas (Poco común)\n",
    "                             max_df=0.6, # Si una palabra salen en más del 60% de los archivos no la pongas (Muy común)\n",
    "                             stop_words=stopwords.words('english')) # Quitando los stopwords"
   ],
   "metadata": {
    "collapsed": false
   }
  },
  {
   "cell_type": "code",
   "execution_count": 19,
   "outputs": [],
   "source": [
    "# Creamos el bag of words\n",
    "bow = vectorizer.fit_transform(clean_texts).toarray()"
   ],
   "metadata": {
    "collapsed": false
   }
  },
  {
   "cell_type": "code",
   "execution_count": 20,
   "outputs": [],
   "source": [
    "# Creando el Objeto para TF-IDF\n",
    "transformer = TfidfTransformer().fit(bow)\n",
    "\n",
    "# Ejecutando la transformación\n",
    "tfidf = transformer.fit_transform(bow).toarray()"
   ],
   "metadata": {
    "collapsed": false
   }
  },
  {
   "cell_type": "code",
   "execution_count": 21,
   "outputs": [
    {
     "data": {
      "text/plain": "     0    1    2    3    4    5    6    7    8    9  ...  493  494  495  496  \\\n0  0.0  0.0  0.0  0.0  0.0  0.0  0.0  0.0  0.0  0.0  ...  0.0  0.0  0.0  0.0   \n1  0.0  0.0  0.0  0.0  0.0  0.0  0.0  0.0  0.0  0.0  ...  0.0  0.0  0.0  0.0   \n2  0.0  0.0  0.0  0.0  0.0  0.0  0.0  0.0  0.0  0.0  ...  0.0  0.0  0.0  0.0   \n3  0.0  0.0  0.0  0.0  0.0  0.0  0.0  0.0  0.0  0.0  ...  0.0  0.0  0.0  0.0   \n4  0.0  0.0  0.0  0.0  0.0  0.0  0.0  0.0  0.0  0.0  ...  0.0  0.0  0.0  0.0   \n\n   497  498  499  Project Cost      prop  Project Current Status  \n0  0.0  0.0  0.0        361.80  0.040503                       1  \n1  0.0  0.0  0.0       3020.59  0.040503                       1  \n2  0.0  0.0  0.0        400.19  0.040503                       1  \n3  0.0  0.0  0.0        528.49  0.040503                       1  \n4  0.0  0.0  0.0        396.92  0.040503                       1  \n\n[5 rows x 503 columns]",
      "text/html": "<div>\n<style scoped>\n    .dataframe tbody tr th:only-of-type {\n        vertical-align: middle;\n    }\n\n    .dataframe tbody tr th {\n        vertical-align: top;\n    }\n\n    .dataframe thead th {\n        text-align: right;\n    }\n</style>\n<table border=\"1\" class=\"dataframe\">\n  <thead>\n    <tr style=\"text-align: right;\">\n      <th></th>\n      <th>0</th>\n      <th>1</th>\n      <th>2</th>\n      <th>3</th>\n      <th>4</th>\n      <th>5</th>\n      <th>6</th>\n      <th>7</th>\n      <th>8</th>\n      <th>9</th>\n      <th>...</th>\n      <th>493</th>\n      <th>494</th>\n      <th>495</th>\n      <th>496</th>\n      <th>497</th>\n      <th>498</th>\n      <th>499</th>\n      <th>Project Cost</th>\n      <th>prop</th>\n      <th>Project Current Status</th>\n    </tr>\n  </thead>\n  <tbody>\n    <tr>\n      <th>0</th>\n      <td>0.0</td>\n      <td>0.0</td>\n      <td>0.0</td>\n      <td>0.0</td>\n      <td>0.0</td>\n      <td>0.0</td>\n      <td>0.0</td>\n      <td>0.0</td>\n      <td>0.0</td>\n      <td>0.0</td>\n      <td>...</td>\n      <td>0.0</td>\n      <td>0.0</td>\n      <td>0.0</td>\n      <td>0.0</td>\n      <td>0.0</td>\n      <td>0.0</td>\n      <td>0.0</td>\n      <td>361.80</td>\n      <td>0.040503</td>\n      <td>1</td>\n    </tr>\n    <tr>\n      <th>1</th>\n      <td>0.0</td>\n      <td>0.0</td>\n      <td>0.0</td>\n      <td>0.0</td>\n      <td>0.0</td>\n      <td>0.0</td>\n      <td>0.0</td>\n      <td>0.0</td>\n      <td>0.0</td>\n      <td>0.0</td>\n      <td>...</td>\n      <td>0.0</td>\n      <td>0.0</td>\n      <td>0.0</td>\n      <td>0.0</td>\n      <td>0.0</td>\n      <td>0.0</td>\n      <td>0.0</td>\n      <td>3020.59</td>\n      <td>0.040503</td>\n      <td>1</td>\n    </tr>\n    <tr>\n      <th>2</th>\n      <td>0.0</td>\n      <td>0.0</td>\n      <td>0.0</td>\n      <td>0.0</td>\n      <td>0.0</td>\n      <td>0.0</td>\n      <td>0.0</td>\n      <td>0.0</td>\n      <td>0.0</td>\n      <td>0.0</td>\n      <td>...</td>\n      <td>0.0</td>\n      <td>0.0</td>\n      <td>0.0</td>\n      <td>0.0</td>\n      <td>0.0</td>\n      <td>0.0</td>\n      <td>0.0</td>\n      <td>400.19</td>\n      <td>0.040503</td>\n      <td>1</td>\n    </tr>\n    <tr>\n      <th>3</th>\n      <td>0.0</td>\n      <td>0.0</td>\n      <td>0.0</td>\n      <td>0.0</td>\n      <td>0.0</td>\n      <td>0.0</td>\n      <td>0.0</td>\n      <td>0.0</td>\n      <td>0.0</td>\n      <td>0.0</td>\n      <td>...</td>\n      <td>0.0</td>\n      <td>0.0</td>\n      <td>0.0</td>\n      <td>0.0</td>\n      <td>0.0</td>\n      <td>0.0</td>\n      <td>0.0</td>\n      <td>528.49</td>\n      <td>0.040503</td>\n      <td>1</td>\n    </tr>\n    <tr>\n      <th>4</th>\n      <td>0.0</td>\n      <td>0.0</td>\n      <td>0.0</td>\n      <td>0.0</td>\n      <td>0.0</td>\n      <td>0.0</td>\n      <td>0.0</td>\n      <td>0.0</td>\n      <td>0.0</td>\n      <td>0.0</td>\n      <td>...</td>\n      <td>0.0</td>\n      <td>0.0</td>\n      <td>0.0</td>\n      <td>0.0</td>\n      <td>0.0</td>\n      <td>0.0</td>\n      <td>0.0</td>\n      <td>396.92</td>\n      <td>0.040503</td>\n      <td>1</td>\n    </tr>\n  </tbody>\n</table>\n<p>5 rows × 503 columns</p>\n</div>"
     },
     "execution_count": 21,
     "metadata": {},
     "output_type": "execute_result"
    }
   ],
   "source": [
    "# Lo pasamos a dataframe para concatenar las otras variables\n",
    "tfidf = pd.DataFrame(tfidf)\n",
    "# Hacemos merge con los datos de la tabla original\n",
    "data_modeling = tfidf.merge(data, right_index=True, left_index=True)\n",
    "# Eliminamos los textos\n",
    "data_modeling.drop(columns=[\"Project Short Description\"], inplace=True)\n",
    "data_modeling.head()"
   ],
   "metadata": {
    "collapsed": false
   }
  },
  {
   "cell_type": "code",
   "execution_count": 22,
   "outputs": [],
   "source": [
    "# Dividiendo en train y test\n",
    "X_train, X_test, y_train, y_test = train_test_split(data_modeling.drop(columns=[\"Project Current Status\"]),\n",
    "                                                    data_modeling[\"Project Current Status\"],\n",
    "                                                    test_size=0.2, random_state=27)\n",
    "\n",
    "\n",
    "# Entrenamos un modelo de Regresión Logística\n",
    "model = LogisticRegression()\n",
    "model.fit(X_train, y_train)\n",
    "\n",
    "# Probando el Modelo\n",
    "y_pred = model.predict(X_test)"
   ],
   "metadata": {
    "collapsed": false
   }
  },
  {
   "cell_type": "code",
   "execution_count": 23,
   "outputs": [
    {
     "name": "stdout",
     "output_type": "stream",
     "text": [
      "Accuracy: 0.7818863515955062\n",
      "\n",
      "Confusion Matrix\n",
      "      0       1\n",
      "0  3334   44257\n",
      "1  3911  169337\n",
      "\n",
      "Sensitivity (Recall): 0.977425424824529\n"
     ]
    }
   ],
   "source": [
    "# Evaluamos el modelo con el accuracy y con una matriz de confusión\n",
    "print(f\"Accuracy: {model.score(X_test, y_test)}\")\n",
    "\n",
    "matrix = confusion_matrix(y_test, y_pred)\n",
    "print()\n",
    "print(\"Confusion Matrix\")\n",
    "print(pd.DataFrame(matrix))\n",
    "\n",
    "print()\n",
    "print(f\"Sensitivity (Recall): {recall_score(y_test, y_pred)}\")"
   ],
   "metadata": {
    "collapsed": false
   }
  },
  {
   "cell_type": "markdown",
   "source": [
    "Es un buen accuracy, pero en la confusion matrix podemos ver que si afecta que no esté balanceada la variable de respuesta, ya que predice muy bien los 1, pero los 0 no tanto.\n",
    "\n",
    "Lo bueno es que en la vision de la base de datos nos interesa si se va a fondear el proyecto (recall), entonces nos arriesgamos con este modelo."
   ],
   "metadata": {
    "collapsed": false
   }
  },
  {
   "cell_type": "markdown",
   "source": [
    "## Exportamos nuestro modelo, nuestros transformers y datos que nos sirven para la API\n"
   ],
   "metadata": {
    "collapsed": false
   }
  },
  {
   "cell_type": "code",
   "execution_count": 24,
   "outputs": [],
   "source": [
    "# Guardando el modelo\n",
    "with open('model_class.pickle', 'wb') as f:\n",
    "    pickle.dump(model, f)\n",
    "\n",
    "# Guardando el vectorizador y el modelo TF-IDF\n",
    "with open('model_tf_idf.pickle', 'wb') as f:\n",
    "    pickle.dump(transformer, f)\n",
    "\n",
    "with open('vectorizer.pickle', 'wb') as f:\n",
    "    pickle.dump(vectorizer, f)\n",
    "\n",
    "# Guardamos el transformador del subject\n",
    "group.to_excel(\"Transform_subject.xlsx\", index=False)"
   ],
   "metadata": {
    "collapsed": false
   }
  }
 ],
 "metadata": {
  "kernelspec": {
   "display_name": "Python 3",
   "language": "python",
   "name": "python3"
  },
  "language_info": {
   "codemirror_mode": {
    "name": "ipython",
    "version": 2
   },
   "file_extension": ".py",
   "mimetype": "text/x-python",
   "name": "python",
   "nbconvert_exporter": "python",
   "pygments_lexer": "ipython2",
   "version": "2.7.6"
  }
 },
 "nbformat": 4,
 "nbformat_minor": 0
}
